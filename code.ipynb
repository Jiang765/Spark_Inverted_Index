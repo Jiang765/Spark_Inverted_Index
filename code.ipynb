{
 "cells": [
  {
   "cell_type": "code",
   "execution_count": 1,
   "id": "f41b8106",
   "metadata": {},
   "outputs": [],
   "source": [
    "import findspark"
   ]
  },
  {
   "cell_type": "code",
   "execution_count": 2,
   "id": "d9555476",
   "metadata": {},
   "outputs": [],
   "source": [
    "findspark.init('/Users/apple/Desktop/spark-3.2.0-bin-hadoop3.2')"
   ]
  },
  {
   "cell_type": "code",
   "execution_count": 9,
   "id": "4b1bc4dc",
   "metadata": {},
   "outputs": [],
   "source": [
    "from pyspark import SparkContext, SparkConf\n",
    "\n",
    "conf = SparkConf()\n",
    "# create Spark context with necessary configuration\n",
    "sc = SparkContext.getOrCreate(conf=conf)"
   ]
  },
  {
   "cell_type": "code",
   "execution_count": 10,
   "id": "8c01f9c0",
   "metadata": {},
   "outputs": [],
   "source": [
    "rdd = sc.wholeTextFiles(\"./Data/*/*\")"
   ]
  },
  {
   "cell_type": "code",
   "execution_count": 11,
   "id": "be59772f",
   "metadata": {},
   "outputs": [],
   "source": [
    "stop_word_list = ['they', 'she', 'he', 'it', 'the', 'as', 'is', 'and']"
   ]
  },
  {
   "cell_type": "code",
   "execution_count": 42,
   "id": "7c271302",
   "metadata": {},
   "outputs": [],
   "source": [
    "output = rdd.flatMap(lambda line: [(line[0], word) for word in line[1].lower().split(' ')])\\\n",
    ".map(lambda x: (x[1], x[0]))\\\n",
    ".filter(lambda x: x[0] not in stop_word_list)\\\n",
    ".map(lambda x: (x, 1))\\\n",
    ".reduceByKey(lambda x, y: x+y)\\\n",
    ".map(lambda x: (x[0][0], [(x[0][1], x[1])]))\\\n",
    ".reduceByKey(lambda x, y: x+y)"
   ]
  },
  {
   "cell_type": "code",
   "execution_count": 43,
   "id": "b8156e4c",
   "metadata": {},
   "outputs": [],
   "source": [
    "data = output.collect()"
   ]
  },
  {
   "cell_type": "code",
   "execution_count": 44,
   "id": "50fe91d9",
   "metadata": {},
   "outputs": [],
   "source": [
    "import json"
   ]
  },
  {
   "cell_type": "code",
   "execution_count": 45,
   "id": "3db1eee5",
   "metadata": {},
   "outputs": [],
   "source": [
    "f = open(\"output.txt\", \"w\")\n",
    "f.write(json.dumps(data))\n",
    "f.close()"
   ]
  },
  {
   "cell_type": "code",
   "execution_count": null,
   "id": "33108bf5",
   "metadata": {},
   "outputs": [],
   "source": []
  }
 ],
 "metadata": {
  "kernelspec": {
   "display_name": "Python 3",
   "language": "python",
   "name": "python3"
  },
  "language_info": {
   "codemirror_mode": {
    "name": "ipython",
    "version": 3
   },
   "file_extension": ".py",
   "mimetype": "text/x-python",
   "name": "python",
   "nbconvert_exporter": "python",
   "pygments_lexer": "ipython3",
   "version": "3.8.8"
  }
 },
 "nbformat": 4,
 "nbformat_minor": 5
}
